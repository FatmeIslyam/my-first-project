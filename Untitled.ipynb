{
 "cells": [
  {
   "cell_type": "code",
   "execution_count": 1,
   "id": "c1f43947-7cd1-4323-b77e-e7d9957995e7",
   "metadata": {},
   "outputs": [
    {
     "name": "stdout",
     "output_type": "stream",
     "text": [
      "4\n"
     ]
    }
   ],
   "source": [
    "print(2+2)"
   ]
  },
  {
   "cell_type": "code",
   "execution_count": 2,
   "id": "c3c1fef9-f458-4997-be9a-545f14caf261",
   "metadata": {},
   "outputs": [
    {
     "name": "stdout",
     "output_type": "stream",
     "text": [
      "0\n",
      "1\n",
      "2\n",
      "3\n"
     ]
    }
   ],
   "source": [
    "for i in range(4):\n",
    "    print(i)"
   ]
  },
  {
   "cell_type": "code",
   "execution_count": 3,
   "id": "76303181-497d-4bb6-923a-25fddc6d6c9a",
   "metadata": {},
   "outputs": [
    {
     "name": "stdout",
     "output_type": "stream",
     "text": [
      "Hello, World!\n"
     ]
    }
   ],
   "source": [
    "import hello"
   ]
  },
  {
   "cell_type": "code",
   "execution_count": 4,
   "id": "690a21e0-60fd-45af-b212-f7ad13d118c8",
   "metadata": {},
   "outputs": [
    {
     "data": {
      "text/plain": [
       "'Hello, World!'"
      ]
     },
     "execution_count": 4,
     "metadata": {},
     "output_type": "execute_result"
    }
   ],
   "source": [
    "hello.s"
   ]
  },
  {
   "cell_type": "code",
   "execution_count": 5,
   "id": "b208af3e-609b-4ffa-a6d4-f1d45f878c5f",
   "metadata": {},
   "outputs": [],
   "source": [
    "import time\n",
    "time.sleep(10)"
   ]
  },
  {
   "cell_type": "markdown",
   "id": "3eff1c0c-2fb8-40e4-824a-bfd1ee4e8a3e",
   "metadata": {},
   "source": [
    "# This is a heading!\n",
    "And this is some text.\n",
    "\n",
    "## And this is a subheading\n",
    "with a bulleted list in it:\n",
    "\n",
    " - one\n",
    " - two\n",
    " - three"
   ]
  },
  {
   "cell_type": "markdown",
   "id": "ecfd7fb2-1259-4c8a-9933-60cd7bba88ff",
   "metadata": {},
   "source": [
    "## Some math\n",
    "\n",
    "And Jupyter’s version of markdown can display LaTeX:\n",
    "\n",
    "$$\n",
    "e^x=\\sum_{i=0}^{\\infty} \\frac{1}{i!}x^i\n",
    "$$"
   ]
  },
  {
   "cell_type": "markdown",
   "id": "acdfae7a-c398-4aa6-90f9-92b8d590079a",
   "metadata": {},
   "source": [
    "This is an equation: $i^4$."
   ]
  },
  {
   "cell_type": "raw",
   "id": "98327161-33a1-4ac2-b108-bc631a3b497c",
   "metadata": {},
   "source": [
    "i = 8\n",
    "print(i)"
   ]
  },
  {
   "cell_type": "code",
   "execution_count": 15,
   "id": "d8075f1d-97b6-4439-b1c0-3f3df0537ef3",
   "metadata": {},
   "outputs": [
    {
     "name": "stderr",
     "output_type": "stream",
     "text": [
      "'pwd' is not recognized as an internal or external command,\n",
      "operable program or batch file.\n"
     ]
    }
   ],
   "source": [
    "!pwd"
   ]
  },
  {
   "cell_type": "code",
   "execution_count": 16,
   "id": "a7ff706d-deac-4967-ac3d-65533cc2ee45",
   "metadata": {},
   "outputs": [
    {
     "name": "stdout",
     "output_type": "stream",
     "text": [
      "[\"'ls' is not recognized as an internal or external command,\", 'operable program or batch file.']\n"
     ]
    }
   ],
   "source": [
    "files = !ls\n",
    "print(files)"
   ]
  },
  {
   "cell_type": "code",
   "execution_count": 4,
   "id": "21813334-a5b2-4d3b-94bc-4cbcbcef92f4",
   "metadata": {},
   "outputs": [
    {
     "name": "stdout",
     "output_type": "stream",
     "text": [
      "Requirement already satisfied: requests in c:\\users\\35987\\miniforge3\\envs\\pythia_foundations_env\\lib\\site-packages (2.32.3)\n",
      "Requirement already satisfied: charset_normalizer<4,>=2 in c:\\users\\35987\\miniforge3\\envs\\pythia_foundations_env\\lib\\site-packages (from requests) (3.4.1)\n",
      "Requirement already satisfied: idna<4,>=2.5 in c:\\users\\35987\\miniforge3\\envs\\pythia_foundations_env\\lib\\site-packages (from requests) (3.10)\n",
      "Requirement already satisfied: urllib3<3,>=1.21.1 in c:\\users\\35987\\miniforge3\\envs\\pythia_foundations_env\\lib\\site-packages (from requests) (2.3.0)\n",
      "Requirement already satisfied: certifi>=2017.4.17 in c:\\users\\35987\\miniforge3\\envs\\pythia_foundations_env\\lib\\site-packages (from requests) (2025.1.31)\n"
     ]
    }
   ],
   "source": [
    "!pip install requests"
   ]
  },
  {
   "cell_type": "code",
   "execution_count": null,
   "id": "d31623cd-b36c-4c77-ad22-95f36abf2432",
   "metadata": {},
   "outputs": [],
   "source": []
  }
 ],
 "metadata": {
  "kernelspec": {
   "display_name": "Python 3 (ipykernel)",
   "language": "python",
   "name": "python3"
  },
  "language_info": {
   "codemirror_mode": {
    "name": "ipython",
    "version": 3
   },
   "file_extension": ".py",
   "mimetype": "text/x-python",
   "name": "python",
   "nbconvert_exporter": "python",
   "pygments_lexer": "ipython3",
   "version": "3.13.2"
  }
 },
 "nbformat": 4,
 "nbformat_minor": 5
}
